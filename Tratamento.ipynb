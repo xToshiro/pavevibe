{
 "cells": [
  {
   "cell_type": "code",
   "execution_count": 2,
   "id": "8a267bd6-e403-4134-ac6b-cfac72a6784f",
   "metadata": {},
   "outputs": [
    {
     "data": {
      "text/plain": [
       "([{'name': 'Trajeto 20240409-101422', 'segments': 1}], 1)"
      ]
     },
     "execution_count": 2,
     "metadata": {},
     "output_type": "execute_result"
    }
   ],
   "source": [
    "from xml.etree import ElementTree as ET\n",
    "\n",
    "# Caminho para o arquivo GPX fornecido\n",
    "gpx_file_path = '/mnt/data/20240409-101422 - Trajeto de teste 1 09_04.gpx'\n",
    "\n",
    "# Ler o arquivo GPX\n",
    "with open(gpx_file_path, 'r') as gpx_file:\n",
    "    gpx_tree = ET.parse(gpx_file)\n",
    "    root = gpx_tree.getroot()\n",
    "\n",
    "# GPX files usam namespaces. Vamos encontrar o namespace correto para acessar os elementos\n",
    "namespace = {'gpx': 'http://www.topografix.com/GPX/1/0'}\n",
    "\n",
    "# Vamos tentar encontrar elementos comuns como trk (track) que geralmente contém a informação de trajeto\n",
    "tracks = root.findall('gpx:trk', namespace)\n",
    "\n",
    "# Para cada trilha (track), vamos tentar extrair um resumo das informações disponíveis, como nome e número de segmentos\n",
    "tracks_info = []\n",
    "for trk in tracks:\n",
    "    trk_info = {\n",
    "        'name': trk.find('gpx:name', namespace).text if trk.find('gpx:name', namespace) is not None else 'Unnamed',\n",
    "        'segments': len(trk.findall('gpx:trkseg', namespace))\n",
    "    }\n",
    "    tracks_info.append(trk_info)\n",
    "\n",
    "tracks_info, len(tracks)"
   ]
  },
  {
   "cell_type": "code",
   "execution_count": 3,
   "id": "1d7d99d9-5d41-44b9-ad83-157c61ef880c",
   "metadata": {},
   "outputs": [
    {
     "data": {
      "text/plain": [
       "(      latitude     longitude elevation                time\n",
       " 0  -3.74468661  -38.57741007    16.312 2024-04-09 13:14:22\n",
       " 1  -3.74468491  -38.57741068    16.476 2024-04-09 13:14:23\n",
       " 2  -3.74468784  -38.57741192    16.121 2024-04-09 13:14:24\n",
       " 3  -3.74468931  -38.57741166    15.629 2024-04-09 13:14:25\n",
       " 4  -3.74469007  -38.57741203    15.846 2024-04-09 13:14:26,\n",
       " (836, 4))"
      ]
     },
     "execution_count": 3,
     "metadata": {},
     "output_type": "execute_result"
    }
   ],
   "source": [
    "import pandas as pd\n",
    "from datetime import datetime, timedelta\n",
    "\n",
    "# Encontrar todos os pontos de trilha (trkpt) dentro do único segmento de trilha (trkseg)\n",
    "trkseg = tracks[0].find('gpx:trkseg', namespace)\n",
    "trkpts = trkseg.findall('gpx:trkpt', namespace)\n",
    "\n",
    "# Extrair informações de cada ponto de trilha\n",
    "trkpt_data = []\n",
    "for pt in trkpts:\n",
    "    # Coordenadas\n",
    "    lat = pt.attrib['lat']\n",
    "    lon = pt.attrib['lon']\n",
    "    \n",
    "    # Elevação\n",
    "    ele = pt.find('gpx:ele', namespace).text if pt.find('gpx:ele', namespace) is not None else None\n",
    "    \n",
    "    # Tempo\n",
    "    time = pt.find('gpx:time', namespace).text if pt.find('gpx:time', namespace) is not None else None\n",
    "    \n",
    "    trkpt_data.append({\n",
    "        'latitude': lat,\n",
    "        'longitude': lon,\n",
    "        'elevation': ele,\n",
    "        'time': datetime.strptime(time, '%Y-%m-%dT%H:%M:%SZ') if time else None\n",
    "    })\n",
    "\n",
    "# Converter para DataFrame\n",
    "trkpt_df = pd.DataFrame(trkpt_data)\n",
    "\n",
    "# Vamos ver as primeiras linhas para garantir que tudo foi extraído corretamente\n",
    "trkpt_df.head(), trkpt_df.shape"
   ]
  },
  {
   "cell_type": "code",
   "execution_count": 4,
   "id": "15d9fd27-3a0a-4b05-9a9d-d792d37ad88d",
   "metadata": {},
   "outputs": [],
   "source": [
    "# Definir o caminho do arquivo de destino\n",
    "caminho_arquivo_csv = 'gps.csv' # Ajuste o caminho conforme necessário\n",
    "# Exportar o DataFrame para um arquivo CSV\n",
    "trkpt_df.to_csv(caminho_arquivo_csv, sep=';', encoding='ISO-8859-1', index=False)"
   ]
  },
  {
   "cell_type": "code",
   "execution_count": 5,
   "id": "4f610b5b-9bee-4bcb-b7e0-0f7feb93329a",
   "metadata": {},
   "outputs": [
    {
     "ename": "TypeError",
     "evalue": "unsupported operand type(s) for -: 'datetime.time' and 'Timedelta'",
     "output_type": "error",
     "traceback": [
      "\u001b[1;31m---------------------------------------------------------------------\u001b[0m",
      "\u001b[1;31mTypeError\u001b[0m                           Traceback (most recent call last)",
      "Cell \u001b[1;32mIn[5], line 4\u001b[0m\n\u001b[0;32m      1\u001b[0m \u001b[38;5;66;03m# Separar a coluna 'time' em duas colunas: 'date' e 'time_adjusted'\u001b[39;00m\n\u001b[0;32m      2\u001b[0m \u001b[38;5;66;03m# Também ajustar a hora diminuindo 3 horas\u001b[39;00m\n\u001b[0;32m      3\u001b[0m trkpt_df[\u001b[38;5;124m'\u001b[39m\u001b[38;5;124mdate\u001b[39m\u001b[38;5;124m'\u001b[39m] \u001b[38;5;241m=\u001b[39m trkpt_df[\u001b[38;5;124m'\u001b[39m\u001b[38;5;124mtime\u001b[39m\u001b[38;5;124m'\u001b[39m]\u001b[38;5;241m.\u001b[39mdt\u001b[38;5;241m.\u001b[39mdate\n\u001b[1;32m----> 4\u001b[0m trkpt_df[\u001b[38;5;124m'\u001b[39m\u001b[38;5;124mtime_adjusted\u001b[39m\u001b[38;5;124m'\u001b[39m] \u001b[38;5;241m=\u001b[39m \u001b[43mtrkpt_df\u001b[49m\u001b[43m[\u001b[49m\u001b[38;5;124;43m'\u001b[39;49m\u001b[38;5;124;43mtime\u001b[39;49m\u001b[38;5;124;43m'\u001b[39;49m\u001b[43m]\u001b[49m\u001b[38;5;241;43m.\u001b[39;49m\u001b[43mdt\u001b[49m\u001b[38;5;241;43m.\u001b[39;49m\u001b[43mtime\u001b[49m\u001b[43m \u001b[49m\u001b[38;5;241;43m-\u001b[39;49m\u001b[43m \u001b[49m\u001b[43mtimedelta\u001b[49m\u001b[43m(\u001b[49m\u001b[43mhours\u001b[49m\u001b[38;5;241;43m=\u001b[39;49m\u001b[38;5;241;43m3\u001b[39;49m\u001b[43m)\u001b[49m\n\u001b[0;32m      6\u001b[0m \u001b[38;5;66;03m# Remover a coluna 'time' original\u001b[39;00m\n\u001b[0;32m      7\u001b[0m trkpt_df\u001b[38;5;241m.\u001b[39mdrop(\u001b[38;5;124m'\u001b[39m\u001b[38;5;124mtime\u001b[39m\u001b[38;5;124m'\u001b[39m, axis\u001b[38;5;241m=\u001b[39m\u001b[38;5;241m1\u001b[39m, inplace\u001b[38;5;241m=\u001b[39m\u001b[38;5;28;01mTrue\u001b[39;00m)\n",
      "File \u001b[1;32m~\\AppData\\Local\\Programs\\Python\\Python312\\Lib\\site-packages\\pandas\\core\\ops\\common.py:76\u001b[0m, in \u001b[0;36m_unpack_zerodim_and_defer.<locals>.new_method\u001b[1;34m(self, other)\u001b[0m\n\u001b[0;32m     72\u001b[0m             \u001b[38;5;28;01mreturn\u001b[39;00m \u001b[38;5;28mNotImplemented\u001b[39m\n\u001b[0;32m     74\u001b[0m other \u001b[38;5;241m=\u001b[39m item_from_zerodim(other)\n\u001b[1;32m---> 76\u001b[0m \u001b[38;5;28;01mreturn\u001b[39;00m \u001b[43mmethod\u001b[49m\u001b[43m(\u001b[49m\u001b[38;5;28;43mself\u001b[39;49m\u001b[43m,\u001b[49m\u001b[43m \u001b[49m\u001b[43mother\u001b[49m\u001b[43m)\u001b[49m\n",
      "File \u001b[1;32m~\\AppData\\Local\\Programs\\Python\\Python312\\Lib\\site-packages\\pandas\\core\\arraylike.py:194\u001b[0m, in \u001b[0;36mOpsMixin.__sub__\u001b[1;34m(self, other)\u001b[0m\n\u001b[0;32m    192\u001b[0m \u001b[38;5;129m@unpack_zerodim_and_defer\u001b[39m(\u001b[38;5;124m\"\u001b[39m\u001b[38;5;124m__sub__\u001b[39m\u001b[38;5;124m\"\u001b[39m)\n\u001b[0;32m    193\u001b[0m \u001b[38;5;28;01mdef\u001b[39;00m \u001b[38;5;21m__sub__\u001b[39m(\u001b[38;5;28mself\u001b[39m, other):\n\u001b[1;32m--> 194\u001b[0m     \u001b[38;5;28;01mreturn\u001b[39;00m \u001b[38;5;28;43mself\u001b[39;49m\u001b[38;5;241;43m.\u001b[39;49m\u001b[43m_arith_method\u001b[49m\u001b[43m(\u001b[49m\u001b[43mother\u001b[49m\u001b[43m,\u001b[49m\u001b[43m \u001b[49m\u001b[43moperator\u001b[49m\u001b[38;5;241;43m.\u001b[39;49m\u001b[43msub\u001b[49m\u001b[43m)\u001b[49m\n",
      "File \u001b[1;32m~\\AppData\\Local\\Programs\\Python\\Python312\\Lib\\site-packages\\pandas\\core\\series.py:6126\u001b[0m, in \u001b[0;36mSeries._arith_method\u001b[1;34m(self, other, op)\u001b[0m\n\u001b[0;32m   6124\u001b[0m \u001b[38;5;28;01mdef\u001b[39;00m \u001b[38;5;21m_arith_method\u001b[39m(\u001b[38;5;28mself\u001b[39m, other, op):\n\u001b[0;32m   6125\u001b[0m     \u001b[38;5;28mself\u001b[39m, other \u001b[38;5;241m=\u001b[39m \u001b[38;5;28mself\u001b[39m\u001b[38;5;241m.\u001b[39m_align_for_op(other)\n\u001b[1;32m-> 6126\u001b[0m     \u001b[38;5;28;01mreturn\u001b[39;00m \u001b[43mbase\u001b[49m\u001b[38;5;241;43m.\u001b[39;49m\u001b[43mIndexOpsMixin\u001b[49m\u001b[38;5;241;43m.\u001b[39;49m\u001b[43m_arith_method\u001b[49m\u001b[43m(\u001b[49m\u001b[38;5;28;43mself\u001b[39;49m\u001b[43m,\u001b[49m\u001b[43m \u001b[49m\u001b[43mother\u001b[49m\u001b[43m,\u001b[49m\u001b[43m \u001b[49m\u001b[43mop\u001b[49m\u001b[43m)\u001b[49m\n",
      "File \u001b[1;32m~\\AppData\\Local\\Programs\\Python\\Python312\\Lib\\site-packages\\pandas\\core\\base.py:1382\u001b[0m, in \u001b[0;36mIndexOpsMixin._arith_method\u001b[1;34m(self, other, op)\u001b[0m\n\u001b[0;32m   1379\u001b[0m     rvalues \u001b[38;5;241m=\u001b[39m np\u001b[38;5;241m.\u001b[39marange(rvalues\u001b[38;5;241m.\u001b[39mstart, rvalues\u001b[38;5;241m.\u001b[39mstop, rvalues\u001b[38;5;241m.\u001b[39mstep)\n\u001b[0;32m   1381\u001b[0m \u001b[38;5;28;01mwith\u001b[39;00m np\u001b[38;5;241m.\u001b[39merrstate(\u001b[38;5;28mall\u001b[39m\u001b[38;5;241m=\u001b[39m\u001b[38;5;124m\"\u001b[39m\u001b[38;5;124mignore\u001b[39m\u001b[38;5;124m\"\u001b[39m):\n\u001b[1;32m-> 1382\u001b[0m     result \u001b[38;5;241m=\u001b[39m \u001b[43mops\u001b[49m\u001b[38;5;241;43m.\u001b[39;49m\u001b[43marithmetic_op\u001b[49m\u001b[43m(\u001b[49m\u001b[43mlvalues\u001b[49m\u001b[43m,\u001b[49m\u001b[43m \u001b[49m\u001b[43mrvalues\u001b[49m\u001b[43m,\u001b[49m\u001b[43m \u001b[49m\u001b[43mop\u001b[49m\u001b[43m)\u001b[49m\n\u001b[0;32m   1384\u001b[0m \u001b[38;5;28;01mreturn\u001b[39;00m \u001b[38;5;28mself\u001b[39m\u001b[38;5;241m.\u001b[39m_construct_result(result, name\u001b[38;5;241m=\u001b[39mres_name)\n",
      "File \u001b[1;32m~\\AppData\\Local\\Programs\\Python\\Python312\\Lib\\site-packages\\pandas\\core\\ops\\array_ops.py:273\u001b[0m, in \u001b[0;36marithmetic_op\u001b[1;34m(left, right, op)\u001b[0m\n\u001b[0;32m    260\u001b[0m \u001b[38;5;66;03m# NB: We assume that extract_array and ensure_wrapped_if_datetimelike\u001b[39;00m\n\u001b[0;32m    261\u001b[0m \u001b[38;5;66;03m#  have already been called on `left` and `right`,\u001b[39;00m\n\u001b[0;32m    262\u001b[0m \u001b[38;5;66;03m#  and `maybe_prepare_scalar_for_op` has already been called on `right`\u001b[39;00m\n\u001b[0;32m    263\u001b[0m \u001b[38;5;66;03m# We need to special-case datetime64/timedelta64 dtypes (e.g. because numpy\u001b[39;00m\n\u001b[0;32m    264\u001b[0m \u001b[38;5;66;03m# casts integer dtypes to timedelta64 when operating with timedelta64 - GH#22390)\u001b[39;00m\n\u001b[0;32m    266\u001b[0m \u001b[38;5;28;01mif\u001b[39;00m (\n\u001b[0;32m    267\u001b[0m     should_extension_dispatch(left, right)\n\u001b[0;32m    268\u001b[0m     \u001b[38;5;129;01mor\u001b[39;00m \u001b[38;5;28misinstance\u001b[39m(right, (Timedelta, BaseOffset, Timestamp))\n\u001b[1;32m   (...)\u001b[0m\n\u001b[0;32m    271\u001b[0m     \u001b[38;5;66;03m# Timedelta/Timestamp and other custom scalars are included in the check\u001b[39;00m\n\u001b[0;32m    272\u001b[0m     \u001b[38;5;66;03m# because numexpr will fail on it, see GH#31457\u001b[39;00m\n\u001b[1;32m--> 273\u001b[0m     res_values \u001b[38;5;241m=\u001b[39m \u001b[43mop\u001b[49m\u001b[43m(\u001b[49m\u001b[43mleft\u001b[49m\u001b[43m,\u001b[49m\u001b[43m \u001b[49m\u001b[43mright\u001b[49m\u001b[43m)\u001b[49m\n\u001b[0;32m    274\u001b[0m \u001b[38;5;28;01melse\u001b[39;00m:\n\u001b[0;32m    275\u001b[0m     \u001b[38;5;66;03m# TODO we should handle EAs consistently and move this check before the if/else\u001b[39;00m\n\u001b[0;32m    276\u001b[0m     \u001b[38;5;66;03m# (https://github.com/pandas-dev/pandas/issues/41165)\u001b[39;00m\n\u001b[0;32m    277\u001b[0m     \u001b[38;5;66;03m# error: Argument 2 to \"_bool_arith_check\" has incompatible type\u001b[39;00m\n\u001b[0;32m    278\u001b[0m     \u001b[38;5;66;03m# \"Union[ExtensionArray, ndarray[Any, Any]]\"; expected \"ndarray[Any, Any]\"\u001b[39;00m\n\u001b[0;32m    279\u001b[0m     _bool_arith_check(op, left, right)  \u001b[38;5;66;03m# type: ignore[arg-type]\u001b[39;00m\n",
      "File \u001b[1;32mtimedeltas.pyx:785\u001b[0m, in \u001b[0;36mpandas._libs.tslibs.timedeltas._binary_op_method_timedeltalike.f\u001b[1;34m()\u001b[0m\n",
      "File \u001b[1;32mtimedeltas.pyx:2024\u001b[0m, in \u001b[0;36mpandas._libs.tslibs.timedeltas.Timedelta.lambda6\u001b[1;34m()\u001b[0m\n",
      "\u001b[1;31mTypeError\u001b[0m: unsupported operand type(s) for -: 'datetime.time' and 'Timedelta'"
     ]
    }
   ],
   "source": [
    "# Separar a coluna 'time' em duas colunas: 'date' e 'time_adjusted'\n",
    "# Também ajustar a hora diminuindo 3 horas\n",
    "trkpt_df['date'] = trkpt_df['time'].dt.date\n",
    "trkpt_df['time_adjusted'] = trkpt_df['time'].dt.time - timedelta(hours=3)\n",
    "\n",
    "# Remover a coluna 'time' original\n",
    "trkpt_df.drop('time', axis=1, inplace=True)\n",
    "\n",
    "# Reordenar colunas para colocar 'date' e 'time_adjusted' primeiro\n",
    "trkpt_df = trkpt_df[['date', 'time_adjusted', 'latitude', 'longitude', 'elevation']]\n",
    "\n",
    "# Verificar as alterações com as primeiras linhas do DataFrame\n",
    "trkpt_df.head(), trkpt_df.shape"
   ]
  },
  {
   "cell_type": "code",
   "execution_count": null,
   "id": "3d8519a9-0087-4a5c-b6d3-4ff50b37511d",
   "metadata": {},
   "outputs": [],
   "source": []
  }
 ],
 "metadata": {
  "kernelspec": {
   "display_name": "Python 3 (ipykernel)",
   "language": "python",
   "name": "python3"
  },
  "language_info": {
   "codemirror_mode": {
    "name": "ipython",
    "version": 3
   },
   "file_extension": ".py",
   "mimetype": "text/x-python",
   "name": "python",
   "nbconvert_exporter": "python",
   "pygments_lexer": "ipython3",
   "version": "3.12.1"
  }
 },
 "nbformat": 4,
 "nbformat_minor": 5
}
