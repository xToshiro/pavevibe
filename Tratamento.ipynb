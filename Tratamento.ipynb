{
 "cells": [
  {
   "cell_type": "code",
   "execution_count": 2,
   "id": "8a267bd6-e403-4134-ac6b-cfac72a6784f",
   "metadata": {},
   "outputs": [
    {
     "data": {
      "text/plain": [
       "([{'name': 'Trajeto 20240409-101422', 'segments': 1}], 1)"
      ]
     },
     "execution_count": 2,
     "metadata": {},
     "output_type": "execute_result"
    }
   ],
   "source": [
    "from xml.etree import ElementTree as ET\n",
    "\n",
    "# Caminho para o arquivo GPX fornecido\n",
    "gpx_file_path = '20240409-101422 - Trajeto de teste 1 09_04.gpx'\n",
    "\n",
    "# Ler o arquivo GPX\n",
    "with open(gpx_file_path, 'r') as gpx_file:\n",
    "    gpx_tree = ET.parse(gpx_file)\n",
    "    root = gpx_tree.getroot()\n",
    "\n",
    "# GPX files usam namespaces. Vamos encontrar o namespace correto para acessar os elementos\n",
    "namespace = {'gpx': 'http://www.topografix.com/GPX/1/0'}\n",
    "\n",
    "# Vamos tentar encontrar elementos comuns como trk (track) que geralmente contém a informação de trajeto\n",
    "tracks = root.findall('gpx:trk', namespace)\n",
    "\n",
    "# Para cada trilha (track), vamos tentar extrair um resumo das informações disponíveis, como nome e número de segmentos\n",
    "tracks_info = []\n",
    "for trk in tracks:\n",
    "    trk_info = {\n",
    "        'name': trk.find('gpx:name', namespace).text if trk.find('gpx:name', namespace) is not None else 'Unnamed',\n",
    "        'segments': len(trk.findall('gpx:trkseg', namespace))\n",
    "    }\n",
    "    tracks_info.append(trk_info)\n",
    "\n",
    "tracks_info, len(tracks)"
   ]
  },
  {
   "cell_type": "code",
   "execution_count": 3,
   "id": "1d7d99d9-5d41-44b9-ad83-157c61ef880c",
   "metadata": {},
   "outputs": [
    {
     "data": {
      "text/plain": [
       "(      latitude     longitude elevation                time\n",
       " 0  -3.74468661  -38.57741007    16.312 2024-04-09 13:14:22\n",
       " 1  -3.74468491  -38.57741068    16.476 2024-04-09 13:14:23\n",
       " 2  -3.74468784  -38.57741192    16.121 2024-04-09 13:14:24\n",
       " 3  -3.74468931  -38.57741166    15.629 2024-04-09 13:14:25\n",
       " 4  -3.74469007  -38.57741203    15.846 2024-04-09 13:14:26,\n",
       " (836, 4))"
      ]
     },
     "execution_count": 3,
     "metadata": {},
     "output_type": "execute_result"
    }
   ],
   "source": [
    "import pandas as pd\n",
    "from datetime import datetime, timedelta\n",
    "\n",
    "# Encontrar todos os pontos de trilha (trkpt) dentro do único segmento de trilha (trkseg)\n",
    "trkseg = tracks[0].find('gpx:trkseg', namespace)\n",
    "trkpts = trkseg.findall('gpx:trkpt', namespace)\n",
    "\n",
    "# Extrair informações de cada ponto de trilha\n",
    "trkpt_data = []\n",
    "for pt in trkpts:\n",
    "    # Coordenadas\n",
    "    lat = pt.attrib['lat']\n",
    "    lon = pt.attrib['lon']\n",
    "    \n",
    "    # Elevação\n",
    "    ele = pt.find('gpx:ele', namespace).text if pt.find('gpx:ele', namespace) is not None else None\n",
    "    \n",
    "    # Tempo\n",
    "    time = pt.find('gpx:time', namespace).text if pt.find('gpx:time', namespace) is not None else None\n",
    "    \n",
    "    trkpt_data.append({\n",
    "        'latitude': lat,\n",
    "        'longitude': lon,\n",
    "        'elevation': ele,\n",
    "        'time': datetime.strptime(time, '%Y-%m-%dT%H:%M:%SZ') if time else None\n",
    "    })\n",
    "\n",
    "# Converter para DataFrame\n",
    "trkpt_df = pd.DataFrame(trkpt_data)\n",
    "\n",
    "# Vamos ver as primeiras linhas para garantir que tudo foi extraído corretamente\n",
    "trkpt_df.head(), trkpt_df.shape"
   ]
  },
  {
   "cell_type": "code",
   "execution_count": 4,
   "id": "15d9fd27-3a0a-4b05-9a9d-d792d37ad88d",
   "metadata": {},
   "outputs": [],
   "source": [
    "# Definir o caminho do arquivo de destino\n",
    "caminho_arquivo_csv = 'gps.csv' # Ajuste o caminho conforme necessário\n",
    "# Exportar o DataFrame para um arquivo CSV\n",
    "trkpt_df.to_csv(caminho_arquivo_csv, sep=';', encoding='ISO-8859-1', index=False)"
   ]
  },
  {
   "cell_type": "code",
   "execution_count": null,
   "id": "4f610b5b-9bee-4bcb-b7e0-0f7feb93329a",
   "metadata": {},
   "outputs": [],
   "source": []
  }
 ],
 "metadata": {
  "kernelspec": {
   "display_name": "Python 3 (ipykernel)",
   "language": "python",
   "name": "python3"
  },
  "language_info": {
   "codemirror_mode": {
    "name": "ipython",
    "version": 3
   },
   "file_extension": ".py",
   "mimetype": "text/x-python",
   "name": "python",
   "nbconvert_exporter": "python",
   "pygments_lexer": "ipython3",
   "version": "3.12.1"
  }
 },
 "nbformat": 4,
 "nbformat_minor": 5
}
